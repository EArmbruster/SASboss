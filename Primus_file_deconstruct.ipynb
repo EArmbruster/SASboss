{
 "cells": [
  {
   "cell_type": "code",
   "execution_count": 11,
   "metadata": {},
   "outputs": [],
   "source": [
    "import csv\n",
    "import re\n",
    "import matplotlib.pyplot as plt\n",
    "import pandas as pd\n",
    "from os import walk\n",
    "from os.path import join\n",
    "from io import StringIO\n",
    "\n",
    "%matplotlib inline\n",
    "\n",
    "# Directory where all the .out files are stored\n",
    "directory = r'../to/the/directory/that/has/all/the/out/files'\n",
    "\n",
    "# Get a list of all of the files in the directory\n",
    "f = []\n",
    "for (dirpath, dirnames, filenames) in walk(directory):\n",
    "    f.extend(filenames)\n",
    "    break\n",
    "\n",
    "# Only keep the .out files\n",
    "outlist = [x for x in f if x[-3:].upper() == 'OUT']"
   ]
  },
  {
   "cell_type": "code",
   "execution_count": 12,
   "metadata": {},
   "outputs": [],
   "source": [
    "# Get S and I Reg columns from each file\n",
    "\n",
    "# This is the text that precedes the data in every file\n",
    "start = '   S          J EXP       ERROR       J REG       I REG\\n\\n   '\n",
    "end = '\\n\\n           ####      Real Space Data                               ####\\n\\n'\n",
    "\n",
    "# Column names\n",
    "headers = ['S', 'J_EXP', 'ERROR', 'J_REG', 'I_REG']\n",
    "\n",
    "# Loop through each .out file\n",
    "for outfile in outlist:\n",
    "    \n",
    "    # Get the data from the file\n",
    "    x = open(join(directory, outfile), 'r')\n",
    "    \n",
    "    # Get the text from the file\n",
    "    text = x.read()\n",
    "    \n",
    "    # Get dmax for file name\n",
    "    dmax = float(re.search('Maximum characteristic size:\\W*(\\d*\\.\\d*)', text).group(1))\n",
    "    \n",
    "    # Get the location of the data within the text\n",
    "    idx1 = text.find(start)\n",
    "    idx2 = text.find(end)\n",
    "    \n",
    "    # Remove unnecessary text and put into StringIO object for reading into a table\n",
    "    testdata = StringIO(text[idx1+len(start):idx2].replace('            ',',').replace(',','   '))\n",
    "    \n",
    "    # Read the data into a table\n",
    "    df = (pd.read_csv(testdata, names=headers, sep=\"\\s\\s(\\s|-)\", engine='python')\n",
    "            .reset_index())\n",
    "    df = df.loc[:, ((df!=' ').sum(axis=0) > 10)]\n",
    "    df.columns = headers\n",
    "    \n",
    "    # Write to txt file\n",
    "    df[['S', 'I_REG']].to_csv('{}_Prfit.txt'.format(re.search('i(.*)\\.out', outfile).group(1),\n",
    "                                                       dmax),\n",
    "                              header=None, index=None, sep=' ')\n",
    "    \n",
    "    # Close the file\n",
    "    x.close()    "
   ]
  },
  {
   "cell_type": "code",
   "execution_count": 13,
   "metadata": {},
   "outputs": [],
   "source": [
    "# Extract some random info from files\n",
    "\n",
    "# Create blank list to store all rows\n",
    "all_list = [['OUT_name', 'Dmax', 'angular range', 'Real space Rg',\n",
    "             'Real Space I(0)', 'alpha', 'total estimate']]\n",
    "\n",
    "# Loop through each .out file\n",
    "for outfile in outlist:\n",
    "    \n",
    "    # Get the data from the file\n",
    "    x = open(join(directory, outfile), 'r')\n",
    "    \n",
    "    # Get the text from the file\n",
    "    text = x.read()\n",
    "    \n",
    "    # Extract info from text\n",
    "    dmax = float(re.search('Maximum characteristic size:\\W*(\\d*\\.\\d*)', text).group(1))\n",
    "    angrange = re.search('Angular range:\\W*(\\d*\\.\\d*\\W*to\\W*\\d*\\.\\d*)', text).group(1)\n",
    "    realrg = re.search('Real space Rg:\\W*(\\d*.*)\\n', text).group(1)\n",
    "    realio = re.search('Real space I\\(0\\):\\W*(\\d*.*)\\n', text).group(1)\n",
    "    alpha = float(re.search('Current ALPHA:\\W*(\\d*.*)\\n', text).group(1))\n",
    "    totalest = float(re.search('Total Estimate:\\W*(\\d*\\.\\d*)', text).group(1))\n",
    "    \n",
    "    # Add to list \n",
    "    all_list.append([outfile, dmax, angrange, realrg, realio, alpha, totalest])"
   ]
  },
  {
   "cell_type": "code",
   "execution_count": 14,
   "metadata": {},
   "outputs": [],
   "source": [
    "# CSV file to write the extracted info to\n",
    "with open(\"output.csv\", \"w\", newline='') as f:\n",
    "    writer = csv.writer(f)\n",
    "    writer.writerows(all_list)"
   ]
  },
  {
   "cell_type": "code",
   "execution_count": 15,
   "metadata": {},
   "outputs": [
    {
     "data": {
      "image/png": "[encoded data removed]",
      "text/plain": [
       "<Figure size 576x576 with 1 Axes>"
      ]
     },
     "metadata": {
      "needs_background": "light"
     },
     "output_type": "display_data"
    }
   ],
   "source": [
    "# Get plot of rg vs dmax\n",
    "\n",
    "# Get data from all_list\n",
    "dmax = [x[1] for x in all_list[1:]]\n",
    "rg = [float(re.search('^(.*) \\+\\-', x[3]).group(1)) for x in all_list[1:]]\n",
    "rgerr = [2.0*float(re.search('\\+\\-.* (\\d.*)$', x[3]).group(1)) for x in all_list[1:]]\n",
    "\n",
    "# Create plot canvas and size\n",
    "fig, ax = plt.subplots()\n",
    "fig.set_size_inches(8,8)\n",
    "\n",
    "# Add data to plot canvas\n",
    "ax.errorbar(dmax, rg, yerr=rgerr, fmt=\"none\")\n",
    "ax.scatter(dmax, rg)\n",
    "\n",
    "# Plot parameters\n",
    "ax.set_title('RG vs Dmax', fontsize=18);\n",
    "plt.xlabel('Dmax', fontsize=16)\n",
    "plt.ylabel('RG', fontsize=16)\n",
    "plt.tight_layout()"
   ]
  },
  {
   "cell_type": "code",
   "execution_count": null,
   "metadata": {},
   "outputs": [],
   "source": []
  },
  {
   "cell_type": "code",
   "execution_count": null,
   "metadata": {},
   "outputs": [],
   "source": []
  },
  {
   "cell_type": "code",
   "execution_count": null,
   "metadata": {},
   "outputs": [],
   "source": []
  },
  {
   "cell_type": "code",
   "execution_count": null,
   "metadata": {},
   "outputs": [],
   "source": []
  },
  {
   "cell_type": "code",
   "execution_count": null,
   "metadata": {},
   "outputs": [],
   "source": []
  },
  {
   "cell_type": "code",
   "execution_count": null,
   "metadata": {},
   "outputs": [],
   "source": []
  }
 ],
 "metadata": {
  "kernelspec": {
   "display_name": "Python 3",
   "language": "python",
   "name": "python3"
  },
  "language_info": {
   "codemirror_mode": {
    "name": "ipython",
    "version": 3
   },
   "file_extension": ".py",
   "mimetype": "text/x-python",
   "name": "python",
   "nbconvert_exporter": "python",
   "pygments_lexer": "ipython3",
   "version": "3.7.2"
  }
 },
 "nbformat": 4,
 "nbformat_minor": 2
}
